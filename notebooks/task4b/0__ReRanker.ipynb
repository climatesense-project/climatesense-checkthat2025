{
 "cells": [
  {
   "cell_type": "markdown",
   "id": "20e599aa-1bbf-4d83-961b-4c4225e203d8",
   "metadata": {},
   "source": [
    "# Re-ranker method\n",
    "See https://huggingface.co/blog/train-reranker"
   ]
  },
  {
   "cell_type": "code",
   "execution_count": 2,
   "id": "a5f6734a-98d0-4ca0-a0b2-bdbc663c94b8",
   "metadata": {},
   "outputs": [
    {
     "data": {
      "application/vnd.jupyter.widget-view+json": {
       "model_id": "53ae2fea057d4c1aa7769e571372867f",
       "version_major": 2,
       "version_minor": 0
      },
      "text/plain": [
       "README.md:   0%|          | 0.00/2.28k [00:00<?, ?B/s]"
      ]
     },
     "metadata": {},
     "output_type": "display_data"
    },
    {
     "data": {
      "application/vnd.jupyter.widget-view+json": {
       "model_id": "61d0f2ab151c4c31b394fbb2133f30a4",
       "version_major": 2,
       "version_minor": 0
      },
      "text/plain": [
       "train-00000-of-00001.parquet:   0%|          | 0.00/44.0M [00:00<?, ?B/s]"
      ]
     },
     "metadata": {},
     "output_type": "display_data"
    },
    {
     "data": {
      "application/vnd.jupyter.widget-view+json": {
       "model_id": "9c079e45f0094ad0adcafecf6f19794d",
       "version_major": 2,
       "version_minor": 0
      },
      "text/plain": [
       "Generating train split:   0%|          | 0/100231 [00:00<?, ? examples/s]"
      ]
     },
     "metadata": {},
     "output_type": "display_data"
    },
    {
     "name": "stdout",
     "output_type": "stream",
     "text": [
      "Dataset({\n",
      "    features: ['query', 'answer'],\n",
      "    num_rows: 100231\n",
      "})\n"
     ]
    },
    {
     "data": {
      "text/plain": [
       "\"\\nDataset({\\n    features: ['query', 'answer'],\\n    num_rows: 100231\\n})\\n\""
      ]
     },
     "execution_count": 2,
     "metadata": {},
     "output_type": "execute_result"
    }
   ],
   "source": [
    "from datasets import load_dataset\n",
    "\n",
    "train_dataset = load_dataset(\"sentence-transformers/natural-questions\", split=\"train\")\n",
    "\n",
    "print(train_dataset)\n",
    "\"\"\"\n",
    "Dataset({\n",
    "    features: ['query', 'answer'],\n",
    "    num_rows: 100231\n",
    "})\n",
    "\"\"\"\n"
   ]
  },
  {
   "cell_type": "code",
   "execution_count": null,
   "id": "02e2fec1-1d50-4306-a8da-3c14f70e61f0",
   "metadata": {},
   "outputs": [],
   "source": []
  }
 ],
 "metadata": {
  "kernelspec": {
   "display_name": "Python 3 (ipykernel)",
   "language": "python",
   "name": "python3"
  },
  "language_info": {
   "codemirror_mode": {
    "name": "ipython",
    "version": 3
   },
   "file_extension": ".py",
   "mimetype": "text/x-python",
   "name": "python",
   "nbconvert_exporter": "python",
   "pygments_lexer": "ipython3",
   "version": "3.12.9"
  }
 },
 "nbformat": 4,
 "nbformat_minor": 5
}
