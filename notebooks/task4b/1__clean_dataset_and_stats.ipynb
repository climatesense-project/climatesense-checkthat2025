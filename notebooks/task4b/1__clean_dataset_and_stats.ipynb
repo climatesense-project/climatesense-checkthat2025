{
 "cells": [
  {
   "cell_type": "code",
   "execution_count": 1,
   "id": "a446212c-2208-444d-abe9-9a989176f788",
   "metadata": {},
   "outputs": [],
   "source": [
    "# Clean Training Dataset"
   ]
  },
  {
   "cell_type": "code",
   "execution_count": 3,
   "id": "f0fe4242-11af-4eb7-ba45-29ea451f1376",
   "metadata": {},
   "outputs": [],
   "source": [
    "import sys\n",
    "\n",
    "sys.path.append(\"../../\")"
   ]
  },
  {
   "cell_type": "code",
   "execution_count": 17,
   "id": "1b2ddda7-d172-46d8-a22a-4214da7952c4",
   "metadata": {},
   "outputs": [],
   "source": [
    "import ast\n",
    "\n",
    "import pandas as pd\n",
    "from scipy.spatial import distance\n",
    "\n",
    "from climatesense_checkthat2025_task4.utils.data import plot_variable_distribution\n",
    "from climatesense_checkthat2025_task4.utils.nlp import replace_mentions, replace_urls, snake_to_titlecase\n"
   ]
  },
  {
   "cell_type": "code",
   "execution_count": 18,
   "id": "1d62c0a5-1b84-42ee-9497-a4ee47d5b8b8",
   "metadata": {},
   "outputs": [],
   "source": [
    "TRAIN = \"../../data/raw/task4/subtask_4b/subtask4b_query_tweets_train.tsv\"\n",
    "DEVEL = \"../../data/raw/task4/subtask_4b/subtask4b_query_tweets_dev.tsv\""
   ]
  },
  {
   "cell_type": "markdown",
   "id": "2c8a1d7d-53eb-4412-875f-643692cac774",
   "metadata": {},
   "source": [
    "# Subtask 4b Training Dataset"
   ]
  },
  {
   "cell_type": "code",
   "execution_count": 21,
   "id": "d72f16f4-1ef9-4a1b-add9-8c03eac18865",
   "metadata": {},
   "outputs": [
    {
     "name": "stdout",
     "output_type": "stream",
     "text": [
      "   post_id                                         tweet_text  cord_uid\n",
      "0        0  Oral care in rehabilitation medicine: oral vul...  htlvpvz5\n",
      "1        1  this study isn't receiving sufficient attentio...  4kfl29ul\n",
      "2        2  thanks, xi jinping. a reminder that this study...  jtwb17u8\n",
      "3        3  Taiwan - a population of 23 million has had ju...  0w9k8iy1\n",
      "4        4  Obtaining a diagnosis of autism in lower incom...  tiqksd69\n",
      "   post_id                                         tweet_text  cord_uid\n",
      "0       16  covid recovery: this study from the usa reveal...  3qvh482o\n",
      "1       69  \"Among 139 clients exposed to two symptomatic ...  r58aohnu\n",
      "2       73  I recall early on reading that researchers who...  sts48u9i\n",
      "3       93  You know you're credible when NIH website has ...  3sr2exq9\n",
      "4       96  Resistance to antifungal medications is a grow...  ybwwmyqy\n",
      "Check duplicates on train data (text only), size before: 12853 -> size after: 12842\n",
      "Check duplicates on train data, size before: 12853 -> size after: 12842\n",
      "Check duplicates on dev data, size before: 1400 -> size after: 1399\n"
     ]
    },
    {
     "data": {
      "text/html": [
       "<div>\n",
       "<style scoped>\n",
       "    .dataframe tbody tr th:only-of-type {\n",
       "        vertical-align: middle;\n",
       "    }\n",
       "\n",
       "    .dataframe tbody tr th {\n",
       "        vertical-align: top;\n",
       "    }\n",
       "\n",
       "    .dataframe thead th {\n",
       "        text-align: right;\n",
       "    }\n",
       "</style>\n",
       "<table border=\"1\" class=\"dataframe\">\n",
       "  <thead>\n",
       "    <tr style=\"text-align: right;\">\n",
       "      <th></th>\n",
       "      <th>post_id</th>\n",
       "      <th>tweet_text</th>\n",
       "      <th>cord_uid</th>\n",
       "    </tr>\n",
       "  </thead>\n",
       "  <tbody>\n",
       "    <tr>\n",
       "      <th>0</th>\n",
       "      <td>0</td>\n",
       "      <td>Oral care in rehabilitation medicine: oral vul...</td>\n",
       "      <td>htlvpvz5</td>\n",
       "    </tr>\n",
       "    <tr>\n",
       "      <th>1</th>\n",
       "      <td>1</td>\n",
       "      <td>this study isn't receiving sufficient attentio...</td>\n",
       "      <td>4kfl29ul</td>\n",
       "    </tr>\n",
       "    <tr>\n",
       "      <th>2</th>\n",
       "      <td>2</td>\n",
       "      <td>thanks, xi jinping. a reminder that this study...</td>\n",
       "      <td>jtwb17u8</td>\n",
       "    </tr>\n",
       "    <tr>\n",
       "      <th>3</th>\n",
       "      <td>3</td>\n",
       "      <td>Taiwan - a population of 23 million has had ju...</td>\n",
       "      <td>0w9k8iy1</td>\n",
       "    </tr>\n",
       "    <tr>\n",
       "      <th>4</th>\n",
       "      <td>4</td>\n",
       "      <td>Obtaining a diagnosis of autism in lower incom...</td>\n",
       "      <td>tiqksd69</td>\n",
       "    </tr>\n",
       "    <tr>\n",
       "      <th>...</th>\n",
       "      <td>...</td>\n",
       "      <td>...</td>\n",
       "      <td>...</td>\n",
       "    </tr>\n",
       "    <tr>\n",
       "      <th>12848</th>\n",
       "      <td>14248</td>\n",
       "      <td>\"evidence on covid-19 reveals a growing body o...</td>\n",
       "      <td>9169o29b</td>\n",
       "    </tr>\n",
       "    <tr>\n",
       "      <th>12849</th>\n",
       "      <td>14249</td>\n",
       "      <td>Outdoor lighting has detrimental impacts on lo...</td>\n",
       "      <td>s2bpha8l</td>\n",
       "    </tr>\n",
       "    <tr>\n",
       "      <th>12850</th>\n",
       "      <td>14250</td>\n",
       "      <td>26/ and influenza virus (and other pathogens, ...</td>\n",
       "      <td>atloc9th</td>\n",
       "    </tr>\n",
       "    <tr>\n",
       "      <th>12851</th>\n",
       "      <td>14251</td>\n",
       "      <td>does it?'sars-cov-2-naïve vaccinees had a 13.0...</td>\n",
       "      <td>t4y1ylb3</td>\n",
       "    </tr>\n",
       "    <tr>\n",
       "      <th>12852</th>\n",
       "      <td>14252</td>\n",
       "      <td>when \"the airway immune cells of children are ...</td>\n",
       "      <td>nlsv8bin</td>\n",
       "    </tr>\n",
       "  </tbody>\n",
       "</table>\n",
       "<p>12842 rows × 3 columns</p>\n",
       "</div>"
      ],
      "text/plain": [
       "       post_id                                         tweet_text  cord_uid\n",
       "0            0  Oral care in rehabilitation medicine: oral vul...  htlvpvz5\n",
       "1            1  this study isn't receiving sufficient attentio...  4kfl29ul\n",
       "2            2  thanks, xi jinping. a reminder that this study...  jtwb17u8\n",
       "3            3  Taiwan - a population of 23 million has had ju...  0w9k8iy1\n",
       "4            4  Obtaining a diagnosis of autism in lower incom...  tiqksd69\n",
       "...        ...                                                ...       ...\n",
       "12848    14248  \"evidence on covid-19 reveals a growing body o...  9169o29b\n",
       "12849    14249  Outdoor lighting has detrimental impacts on lo...  s2bpha8l\n",
       "12850    14250  26/ and influenza virus (and other pathogens, ...  atloc9th\n",
       "12851    14251  does it?'sars-cov-2-naïve vaccinees had a 13.0...  t4y1ylb3\n",
       "12852    14252  when \"the airway immune cells of children are ...  nlsv8bin\n",
       "\n",
       "[12842 rows x 3 columns]"
      ]
     },
     "execution_count": 21,
     "metadata": {},
     "output_type": "execute_result"
    }
   ],
   "source": [
    "# Load the data\n",
    "st4b_train_df = pd.read_csv(TRAIN, sep=\"\\t\")\n",
    "print(st4b_train_df.head(5))\n",
    "st4b_dev_df = pd.read_csv(DEVEL, sep=\"\\t\")\n",
    "print(st4b_dev_df.head(5))\n",
    "\n",
    "\n",
    "# Check duplicates from train (text only) -- we will use the next index, same results\n",
    "selto = st4b_train_df.drop_duplicates([\"tweet_text\"]).index\n",
    "print(f\"Check duplicates on train data (text only), size before: {len(st4b_train_df)} -> size after: {len(selto)}\")\n",
    "\n",
    "# Check duplicates from train\n",
    "selt = st4b_train_df.drop_duplicates([\"tweet_text\", \"cord_uid\"]).index\n",
    "print(f\"Check duplicates on train data, size before: {len(st4b_train_df)} -> size after: {len(selt)}\")\n",
    "\n",
    "# Check duplicates from dev\n",
    "seld = st4b_dev_df.drop_duplicates([\"tweet_text\", \"cord_uid\"]).index\n",
    "print(f\"Check duplicates on dev data, size before: {len(st4b_dev_df)} -> size after: {len(seld)}\")\n",
    "\n",
    "# Remove duplicates from training data\n",
    "# Select only the row with index in selt:\n",
    "st4b_train_df = st4b_train_df.loc[selt]\n",
    "st4b_train_df.to_csv(\"../../data/processed/task4/subtask_4b/subtask4b_query_tweets_train_clean.tsv\", sep=\"\\t\", index=False)\n",
    "st4b_dev_df = st4b_dev_df.loc[seld]\n",
    "st4b_dev_df.to_csv(\"../../data/processed/task4/subtask_4b/subtask4b_query_tweets_dev_clean.tsv\", sep=\"\\t\", index=False)\n",
    "\n",
    "#st4b_train_df"
   ]
  },
  {
   "cell_type": "code",
   "execution_count": 23,
   "id": "57746443-ddc2-4404-938f-30de3aa59b62",
   "metadata": {},
   "outputs": [],
   "source": [
    "# Set dev mode on or off\n",
    "DEV_MODE = False"
   ]
  },
  {
   "cell_type": "code",
   "execution_count": 24,
   "id": "e07c9f7c-c7b5-4786-a6e6-77d7f95caae0",
   "metadata": {},
   "outputs": [],
   "source": [
    "st4b_df = DEV_MODE and st4b_train_df or st4b_dev_df"
   ]
  },
  {
   "cell_type": "code",
   "execution_count": 28,
   "id": "aca12802-accf-4153-a9d1-ad138a9b546b",
   "metadata": {},
   "outputs": [
    {
     "name": "stdout",
     "output_type": "stream",
     "text": [
      "count\n",
      "1     549\n",
      "2     119\n",
      "3      40\n",
      "4      22\n",
      "5      11\n",
      "6       6\n",
      "9       5\n",
      "12      5\n",
      "7       3\n",
      "23      2\n",
      "8       2\n",
      "14      2\n",
      "15      2\n",
      "10      1\n",
      "11      1\n",
      "22      1\n",
      "24      1\n",
      "Name: count, dtype: int64\n"
     ]
    },
    {
     "data": {
      "image/png": "[encoded data removed]",
      "text/plain": [
       "<Figure size 640x480 with 1 Axes>"
      ]
     },
     "metadata": {},
     "output_type": "display_data"
    }
   ],
   "source": [
    "# Number of distinct values of 'cord_uid'\n",
    "import matplotlib.pyplot as plt\n",
    "#value_counts = st4b_df['cord_uid'].value_counts()\n",
    "value_counts = st4b_df['cord_uid'].value_counts()\n",
    "#print(value_counts)\n",
    "# Count of papers referenced by number of tweets (Most papers are referenced by a single tweet)\n",
    "print(value_counts.value_counts())\n",
    "value_counts.value_counts().plot()\n",
    "plt.show()"
   ]
  },
  {
   "cell_type": "code",
   "execution_count": 48,
   "id": "7003f0ea-fc89-4a11-bdfb-ec14800b3db1",
   "metadata": {},
   "outputs": [
    {
     "name": "stdout",
     "output_type": "stream",
     "text": [
      "7718\n",
      "Size before: 7718 -> size of unique UIDs: 7718\n",
      "Size before: 7718 -> size of unique titles: 7676\n"
     ]
    }
   ],
   "source": [
    "# Load the collection\n",
    "import pickle\n",
    "\n",
    "st4b_collection_df = pickle.load(open(\"../../data/raw/task4/subtask_4b/subtask4b_collection_data.pkl\",'rb'))\n",
    "\n",
    "print(len(st4b_collection_df))\n",
    "\n",
    "# Check if duplicates uid exists\n",
    "seluid = st4b_collection_df.drop_duplicates([\"cord_uid\"]).index\n",
    "print(f\"Size before: {len(st4b_collection_df)} -> size of unique UIDs: {len(seluid)}\")\n",
    "\n",
    "# Check if duplicates exist\n",
    "seltit = st4b_collection_df.drop_duplicates([\"title\"]).index\n",
    "print(f\"Size before: {len(st4b_collection_df)} -> size of unique titles: {len(seltit)}\")\n",
    "# No duplicates found"
   ]
  },
  {
   "cell_type": "markdown",
   "id": "936e5a1a-8a88-4e33-b1a1-5916bfd7295a",
   "metadata": {},
   "source": [
    "FIXME: There are articles duplicates with different ids"
   ]
  },
  {
   "cell_type": "code",
   "execution_count": 62,
   "id": "bf3acfb0-0ee8-4b85-9664-3a5fed9c4483",
   "metadata": {
    "scrolled": true
   },
   "outputs": [
    {
     "name": "stdout",
     "output_type": "stream",
     "text": [
      "772  unique coord_uids\n",
      "  Topic  Count\n",
      "0   Yes    772\n",
      "1    No   6946\n"
     ]
    },
    {
     "data": {
      "text/plain": [
       "<Axes: ylabel='Count'>"
      ]
     },
     "execution_count": 62,
     "metadata": {},
     "output_type": "execute_result"
    },
    {
     "data": {
      "image/png": "[encoded data removed]",
      "text/plain": [
       "<Figure size 640x480 with 1 Axes>"
      ]
     },
     "metadata": {},
     "output_type": "display_data"
    }
   ],
   "source": [
    "from numpy import unique\n",
    "# How many articles have actually a reference in the training dataset?\n",
    "uids = list(unique(st4b_df['cord_uid'].values))\n",
    "print(len(uids),' unique coord_uids')\n",
    "collix = st4b_collection_df.set_index(['cord_uid']).index\n",
    "trainix = st4b_df.set_index(['cord_uid']).index\n",
    "\n",
    "df323 = st4b_collection_df[collix.isin(trainix)]\n",
    "\n",
    "coll_y_n_df = pd.DataFrame({'Topic': ['Yes', 'No'],\n",
    "                   'Count': [len(df323), len(st4b_collection_df) - len(df323)]})\n",
    "#print(coll_y_n_df)\n",
    "coll_y_n_df.set_index('Topic').plot.pie(y='Count', legend=True)\n",
    "#plt.show()"
   ]
  },
  {
   "cell_type": "code",
   "execution_count": null,
   "id": "f23a3c1c-171a-4099-b482-d0b50cfb4a6c",
   "metadata": {},
   "outputs": [],
   "source": []
  }
 ],
 "metadata": {
  "kernelspec": {
   "display_name": "Python 3 (ipykernel)",
   "language": "python",
   "name": "python3"
  },
  "language_info": {
   "codemirror_mode": {
    "name": "ipython",
    "version": 3
   },
   "file_extension": ".py",
   "mimetype": "text/x-python",
   "name": "python",
   "nbconvert_exporter": "python",
   "pygments_lexer": "ipython3",
   "version": "3.12.9"
  }
 },
 "nbformat": 4,
 "nbformat_minor": 5
}
