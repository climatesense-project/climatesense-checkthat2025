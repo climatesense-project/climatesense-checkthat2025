{
 "cells": [
  {
   "cell_type": "markdown",
   "metadata": {},
   "source": [
    "# SetFit Models\n"
   ]
  },
  {
   "cell_type": "code",
   "execution_count": null,
   "metadata": {
    "tags": [
     "parameters"
    ]
   },
   "outputs": [],
   "source": [
    "# parameters\n",
    "upstream = None\n",
    "product = None\n",
    "some_param = None\n",
    "\n",
    "model_id = \"cardiffnlp/twitter-roberta-large-2022-154m\"\n",
    "\n",
    "max_steps = 10000\n",
    "num_epochs = 10\n",
    "eval_steps = 150\n",
    "batch_size = 24\n",
    "eval_steps = 150\n",
    "warmup_ratio = 0.1\n",
    "learning_rate = 2e-5\n",
    "num_train_epochs = 10\n",
    "weight_decay = 0.01\n",
    "per_device_train_batch_size = 16\n",
    "per_device_eval_batch_size = 256\n",
    "gradient_checkpointing = True"
   ]
  },
  {
   "cell_type": "code",
   "execution_count": 2,
   "metadata": {},
   "outputs": [],
   "source": [
    "import sys\n",
    "\n",
    "sys.path.append(\"../../\")"
   ]
  },
  {
   "cell_type": "code",
   "execution_count": null,
   "metadata": {},
   "outputs": [],
   "source": [
    "import os\n",
    "from functools import partial\n",
    "from pprint import pprint\n",
    "from typing import List\n",
    "\n",
    "import numpy as np\n",
    "import pandas as pd\n",
    "from datasets import Dataset, DatasetDict\n",
    "from sentence_transformers.losses import CosineSimilarityLoss\n",
    "from setfit import SetFitModel, Trainer, TrainingArguments\n",
    "from transformers import EarlyStoppingCallback"
   ]
  },
  {
   "cell_type": "code",
   "execution_count": null,
   "metadata": {},
   "outputs": [],
   "source": [
    "# Check if directory exists:\n",
    "if not os.path.exists(\"./data\"):\n",
    "    ROOT_DIR = \"../../data/\"\n",
    "else:\n",
    "    ROOT_DIR = \"./data/\""
   ]
  },
  {
   "cell_type": "code",
   "execution_count": null,
   "metadata": {},
   "outputs": [],
   "source": [
    "from sklearn.metrics import accuracy_score, f1_score, precision_score, recall_score\n",
    "\n",
    "\n",
    "def compute_metrics(y_pred, y_test, labels: List[str] = None):\n",
    "    y_pred = np.array(y_pred)  # , copy=None)\n",
    "    y_test = np.array(y_test)  # , copy=None)\n",
    "    metrics = {}\n",
    "\n",
    "    \"\"\"\n",
    "    Compute evaluation metrics for multi-label classification.\n",
    "\n",
    "    Args:\n",
    "        y_pred (np.ndarray): Predicted labels, shape (n_samples, n_labels).\n",
    "        y_test (np.ndarray): True labels, shape (n_samples, n_labels).\n",
    "        labels (List[str], optional): List of label names. If None, numeric indices are used.\n",
    "\n",
    "    Returns:\n",
    "        dict: A dictionary containing accuracy, precision, recall, and F1 score for each label,\n",
    "        as well as the macro accuracy, precision, recall, and F1 score across all labels.\n",
    "    \"\"\"\n",
    "    if (labels is None) or (len(labels) != y_test.shape[1]):\n",
    "        labels = list(range(0, y_test.shape[1]))\n",
    "\n",
    "    for i in range(0, y_test.shape[1]):\n",
    "        acc = accuracy_score(y_test[:, i], y_pred[:, i])\n",
    "        prec = precision_score(y_test[:, i], y_pred[:, i], zero_division=0)\n",
    "        rec = recall_score(y_test[:, i], y_pred[:, i], zero_division=0)\n",
    "        f1 = f1_score(y_test[:, i], y_pred[:, i], zero_division=0)\n",
    "\n",
    "        metrics.update(\n",
    "            {\n",
    "                f\"{labels[i]}_avg_acc\": acc,\n",
    "                f\"{labels[i]}_avg_prec\": prec,\n",
    "                f\"{labels[i]}_avg_rec\": rec,\n",
    "                f\"{labels[i]}_avg_f1\": f1,\n",
    "            }\n",
    "        )\n",
    "    metrics[\"macro_acc\"] = accuracy_score(y_test, y_pred)\n",
    "    metrics[\"macro_prec\"] = precision_score(y_test, y_pred, average=\"macro\")\n",
    "    metrics[\"macro_rec\"] = recall_score(y_test, y_pred, average=\"macro\")\n",
    "    metrics[\"macro_f1\"] = f1_score(y_test, y_pred, average=\"macro\")\n",
    "\n",
    "    return metrics"
   ]
  },
  {
   "cell_type": "code",
   "execution_count": 6,
   "metadata": {},
   "outputs": [],
   "source": [
    "# Load the provided trainning and test data:\n",
    "subtask4a_train_df = pd.read_csv(\n",
    "    os.path.join(ROOT_DIR, \"processed/task4/subtask_4a/ct_train_clean.tsv\"),\n",
    "    sep=\"\\t\",\n",
    ")\n",
    "subtask4a_test_df = pd.read_csv(\n",
    "    os.path.join(ROOT_DIR, \"processed/task4/subtask_4a/ct_dev_clean.tsv\"),\n",
    "    sep=\"\\t\",\n",
    ")\n",
    "subtask4a_eval_df = pd.read_csv(\n",
    "    os.path.join(ROOT_DIR, \"processed/task4/subtask_4a/ct_eval_clean.tsv\"),\n",
    "    sep=\"\\t\",\n",
    ")"
   ]
  },
  {
   "cell_type": "markdown",
   "metadata": {},
   "source": [
    "## Basic Train/Dev Evaluaiton\n",
    "\n",
    "We use the train/dev from the repository rathert than the folds.\n"
   ]
  },
  {
   "cell_type": "code",
   "execution_count": null,
   "metadata": {},
   "outputs": [
    {
     "data": {
      "text/plain": [
       "DatasetDict({\n",
       "    train: Dataset({\n",
       "        features: ['text', 'labels'],\n",
       "        num_rows: 1228\n",
       "    })\n",
       "    test: Dataset({\n",
       "        features: ['text', 'labels'],\n",
       "        num_rows: 137\n",
       "    })\n",
       "    eval: Dataset({\n",
       "        features: ['text'],\n",
       "        num_rows: 240\n",
       "    })\n",
       "})"
      ]
     },
     "execution_count": 7,
     "metadata": {},
     "output_type": "execute_result"
    }
   ],
   "source": [
    "# Create the dataset:\n",
    "\n",
    "ds_train = Dataset.from_dict(\n",
    "    {\n",
    "        \"text\": subtask4a_train_df[\"text\"],\n",
    "        \"labels\": subtask4a_train_df[\n",
    "            [\"scientific_claim\", \"scientific_reference\", \"scientific_entities\"]\n",
    "        ].values.tolist(),\n",
    "    }\n",
    ")\n",
    "\n",
    "ds_dev = Dataset.from_dict(\n",
    "    {\n",
    "        \"text\": subtask4a_test_df[\"text\"],\n",
    "        \"labels\": subtask4a_test_df[\n",
    "            [\"scientific_claim\", \"scientific_reference\", \"scientific_entities\"]\n",
    "        ].values.tolist(),\n",
    "    }\n",
    ")\n",
    "\n",
    "ds_eval = Dataset.from_dict({\"text\": subtask4a_eval_df[\"text\"]})\n",
    "\n",
    "ds = DatasetDict({\"train\": ds_train, \"test\": ds_dev, \"eval\": ds_eval})\n",
    "ds"
   ]
  },
  {
   "cell_type": "code",
   "execution_count": null,
   "metadata": {},
   "outputs": [],
   "source": [
    "import gc\n",
    "\n",
    "import torch\n",
    "\n",
    "gc.collect()\n",
    "torch.cuda.empty_cache()"
   ]
  },
  {
   "cell_type": "code",
   "execution_count": null,
   "metadata": {},
   "outputs": [],
   "source": [
    "model = SetFitModel.from_pretrained(\n",
    "    model_id,\n",
    "    multi_target_strategy=\"one-vs-rest\",\n",
    "    trust_remote_code=True,\n",
    "    torch_dtype=\"auto\",\n",
    ")\n",
    "\n",
    "\n",
    "os.environ[\"MLFLOW_EXPERIMENT_NAME\"] = f\"setfit-*-{model_id.split('/')[-1]}-dev\"\n",
    "os.environ[\"MLFLOW_FLATTEN_PARAMS\"] = \"1\"\n",
    "\n",
    "callbacks = [EarlyStoppingCallback(early_stopping_patience=4)]\n",
    "\n",
    "args = TrainingArguments(\n",
    "    batch_size=batch_size,\n",
    "    num_epochs=num_epochs,\n",
    "    loss=CosineSimilarityLoss,\n",
    "    sampling_strategy=\"oversampling\",\n",
    "    use_amp=True,  # mixed precision for optimising GPU memory\n",
    "    eval_strategy=\"steps\",\n",
    "    save_steps=eval_steps,\n",
    "    eval_steps=eval_steps,\n",
    "    load_best_model_at_end=True,\n",
    "    max_steps=max_steps,  # 46,540 eval steps... we change to a 3000 to avoid this issue...\n",
    "    output_dir=os.path.join(ROOT_DIR, f\"results/setfit/checkpoints/{model_id.split('/')[-1]}\"),\n",
    "    logging_dir=os.path.join(ROOT_DIR, f\"results/setfit/logs/{model_id.split('/')[-1]}\"),\n",
    ")\n",
    "\n",
    "trainer = Trainer(\n",
    "    model=model,\n",
    "    args=args,\n",
    "    train_dataset=ds[\"train\"],  # Dataset.from_dict(ds[\"train\"][0:100]),\n",
    "    eval_dataset=ds[\"test\"],\n",
    "    column_mapping={\"text\": \"text\", \"labels\": \"label\"},\n",
    "    metric=partial(\n",
    "        compute_metrics,\n",
    "        labels=[\"scientific_claim\", \"scientific_reference\", \"scientific_entities\"],\n",
    "    ),\n",
    "    callbacks=callbacks,  # FIXME should use an eval dataset for early stopping rather than the test set. Check: https://github.com/huggingface/setfit/issues/424\n",
    ")\n",
    "trainer.train()\n",
    "eval_result = trainer.evaluate()\n",
    "eval_result[\"model\"] = model_id\n",
    "\n",
    "pprint(eval_result)"
   ]
  }
 ],
 "metadata": {
  "kernelspec": {
   "display_name": "climatesense-checkthat2025-task4-F-tagyMC-py3.12",
   "language": "python",
   "name": "python3"
  },
  "language_info": {
   "codemirror_mode": {
    "name": "ipython",
    "version": 3
   },
   "file_extension": ".py",
   "mimetype": "text/x-python",
   "name": "python",
   "nbconvert_exporter": "python",
   "pygments_lexer": "ipython3",
   "version": "3.12.10"
  }
 },
 "nbformat": 4,
 "nbformat_minor": 2
}
